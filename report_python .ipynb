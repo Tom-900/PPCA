{
 "cells": [
  {
   "cell_type": "markdown",
   "metadata": {},
   "source": [
    "# Reproduction of PPCA using Python"
   ]
  },
  {
   "cell_type": "markdown",
   "metadata": {},
   "source": [
    "## PCA\n",
    "\n",
    "First, let's construct the function to realize the classical PCA algorithm. In this place, $\\mathbf{t}$ is the $d$-dimensional data matrix with a shape $d\\times N$. $q$ is the dimension of the latent subspace and $\\mathbf{W}$ is the set of $q$ principal axes. $\\mathbf{W}$ is composed of $q$ eigenvectors corresponding to the maximal $q$ eigenvalues of the sample covariance matrix $\\mathbf{S}$."
   ]
  },
  {
   "cell_type": "code",
   "execution_count": 1,
   "metadata": {},
   "outputs": [],
   "source": [
    "import numpy as np\n",
    "\n",
    "def PCA(t, q):\n",
    "    d, N = t.shape\n",
    "\n",
    "    Mu = np.mean(t, axis=1).reshape(d, 1)\n",
    "    S = np.zeros((d, d))\n",
    "\n",
    "    for i in range(N):\n",
    "        S = S + np.dot((t[:, i].reshape(d, 1) - Mu), (t[:, i].reshape(d, 1) - Mu).T)\n",
    "    S = S / N\n",
    "\n",
    "    _, W = np.linalg.eig(S)\n",
    "    W = W[:, 0: q].real\n",
    "    X = np.dot(W.T, (t - Mu))\n",
    "\n",
    "    return X"
   ]
  },
  {
   "cell_type": "markdown",
   "metadata": {},
   "source": [
    "## PPCA\n",
    "\n",
    "In this part, the notation mainly refers to the paper of Tipping and Bishop: Probabilistic principal component analysis. The authors provided two methods to determine the parameters: maximum likelihood estimate and EM algorithm.\n",
    "\n",
    "In the former one, $\\mathbf{W}$ and $\\sigma^2$ are calculated as:\n",
    "\\begin{equation}\n",
    "\\sigma^2=\\sum\\limits_{i=q+1}^{n}\\lambda_i\n",
    "\\end{equation}\n",
    "\\begin{equation}\n",
    "\\mathbf{W}=\\mathbf{U_q}(\\mathbf{\\Lambda}_q-\\sigma^2\\mathbf{I})^{1/2}\\mathbf{R}\n",
    "\\end{equation}\n",
    "\n",
    "where the $q$ column vectors in the $d\\times q$ matrix $\\mathbf{U}_q$ are the principal eigenvectors of $\\mathbf{S}$, with corresponding eigenvalues $\\lambda_1,\\cdots,\\lambda_q$ in the $q\\times q$ diagonal matrix $\\mathbf{\\Lambda}_q$, and $\\mathbf{R}$ is an arbitrary $q\\times q$ orthogonal rotation matrix.\n",
    "\n",
    "In EM algorithm, $\\mathbf{W}$ and $\\sigma^2$ are updated by:\n",
    "\\begin{equation}\n",
    "\\widetilde{\\mathbf{W}}=\\mathbf{SW}(\\sigma^2\\mathbf{I}+\\mathbf{M}^{-1}\\mathbf{W}^{\\rm{T}}\\mathbf{S}\\mathbf{W})^{-1}\n",
    "\\end{equation}\n",
    "\\begin{equation}\n",
    "\\widetilde{\\sigma^{2}}=\\frac{1}{d}\\rm{tr}(\\mathbf{S}-\\mathbf{SWM}^{-1}\\widetilde{\\mathbf{W}^{\\rm{T}}})\n",
    "\\end{equation}\n",
    "\n",
    "where $\\mathbf{S}$ is given by:\n",
    "\\begin{equation}\n",
    "\\mathbf{S}=\\frac{1}{N}\\sum\\limits_{n=1}^{N}(\\mathbf{t}_n-\\pmb{\\mu})(\\mathbf{t}_n-\\pmb{\\mu})^{\\rm{T}}\n",
    "\\end{equation}\n",
    "\n",
    "The first instance of $\\mathbf{W}$ in equation is the old value of the parameter matrix, whereas the second instance $\\widetilde{\\mathbf{W}}$ is the new value of calculated from the equation.\n",
    "\n",
    "After we get the parameter $\\mathbf{W}$ and $\\sigma^2$, the desired latent variable $\\mathbf{x}$ can be summarized by the mean of the posterior distribution:\n",
    "\n",
    "\\begin{equation}\n",
    "\\mathbf{x}_n=\\mathbf{M}^{-1}\\mathbf{W}^{\\rm{T}}(\\mathbf{t}_n-\\pmb{\\mu})\n",
    "\\end{equation}\n",
    "\\begin{equation}\n",
    "\\mathbf{M}=\\mathbf{W}^{\\rm{T}}\\mathbf{W}+\\sigma^{2}\\mathbf{I}\n",
    "\\end{equation}\n",
    "\n",
    "At last, we could compute the log-likelihood of the model to evaluate if the update of parameters is right:\n",
    "\n",
    "\\begin{equation}\n",
    "\\mathcal{L}=-\\frac{N}{2}(d\\log(2\\pi)+\\log|\\mathbf{C}|+\\rm{tr}(\\mathbf{C}^{-1}\\mathbf{S}))\n",
    "\\end{equation}\n",
    "\n",
    "We should supervise if the log-likelihood is increasing."
   ]
  },
  {
   "cell_type": "code",
   "execution_count": 11,
   "metadata": {},
   "outputs": [],
   "source": [
    "import numpy as np\n",
    "\n",
    "def PPCA(t, q, epsilon = 0.001, method = 'ML'):\n",
    "    d, N = t.shape\n",
    "    Mu = np.mean(t, axis = 1).reshape(d, 1)\n",
    "    S = np.zeros((d, d))\n",
    "\n",
    "    for i in range(N):\n",
    "        S += np.dot((t[:, i].reshape(d, 1) - Mu), (t[:, i].reshape(d, 1) - Mu).T)\n",
    "    S /= N\n",
    "\n",
    "    if method == 'ML':\n",
    "        value, U = np.linalg.eig(S)\n",
    "        U = U[:, 0: q]\n",
    "        sigma_square = np.sum(value[q: d]) / (d - q)\n",
    "        Lambda = np.diag(value[0: q])\n",
    "        W = np.dot(U, np.sqrt(Lambda - sigma_square * np.identity(q)))\n",
    "        W = W.real\n",
    "\n",
    "        M = np.dot(W.T, W) + sigma_square * np.identity(q)\n",
    "        X = np.dot(np.dot(np.linalg.inv(M), W.T), (t - Mu))\n",
    "\n",
    "    if method == 'EM':\n",
    "        value, U = np.linalg.eig(S)\n",
    "        U = U[:, 0: q]\n",
    "        U = U.real\n",
    "        Lambda = np.diag(value[0: q])\n",
    "\n",
    "        W_new = np.dot(U, np.sqrt(Lambda))\n",
    "        W_old= np.dot(U, np.sqrt(Lambda))\n",
    "        W_new = W_new.real\n",
    "        W_old = W_old.real\n",
    "        sigma_square_new = 1\n",
    "        sigma_square_old = 5\n",
    "\n",
    "        while (np.sqrt(np.sum(np.square(W_new - W_old))) > epsilon) | (abs(sigma_square_new-sigma_square_old) > epsilon):\n",
    "            M = np.dot(W_new.T, W_new) + sigma_square_new * np.identity(q)\n",
    "            W_old = W_new\n",
    "            sigma_square_old = sigma_square_new\n",
    "            W_new = np.dot(np.dot(S, W_old), np.linalg.inv(sigma_square_old * np.identity(q) + np.dot(np.linalg.inv(M), np.dot(W_old.T, np.dot(S, W_old)))))\n",
    "            sigma_square_new = np.trace(S - np.dot(S, np.dot(W_old, np.dot(np.linalg.inv(M), W_new.T))))/d\n",
    "\n",
    "            C = np.dot(W_new, W_new.T) + sigma_square_new * np.identity(d)\n",
    "            L = -N * (d * np.log(np.pi) + np.log(np.linalg.det(C)) + np.trace(np.dot(np.linalg.inv(C), S))) / 2\n",
    "            print(\"updated log-likelihood:\", L)\n",
    "\n",
    "        M = np.dot(W_new.T, W_new) + sigma_square_new * np.identity(q)\n",
    "        X = np.dot(np.linalg.inv(M), np.dot(W_new.T, (t - Mu)))\n",
    "\n",
    "    return X\n"
   ]
  },
  {
   "cell_type": "markdown",
   "metadata": {},
   "source": [
    "It must be emphasized that EM algorithm is very sensitive to the choice of the initial value. So in the code above the initial value of $\\mathbf{W}$ is chosen to be: $\\mathbf{U}_q\\mathbf{\\Lambda}_q^{1/2}$. This ensures $\\mathbf{W}$ converge to the correct value. It could be proved in the next example."
   ]
  },
  {
   "cell_type": "markdown",
   "metadata": {},
   "source": [
    "## Example 1: Tobamovirus data\n",
    "\n",
    "In this part we run the code above on the 18-dimensional Tobamovirus dataset. This is obtained from the website: https://www.stats.ox.ac.uk/pub/PRNN/virus3.dat."
   ]
  },
  {
   "cell_type": "code",
   "execution_count": 16,
   "metadata": {},
   "outputs": [
    {
     "name": "stdout",
     "output_type": "stream",
     "text": [
      "updated log-likelihood: -1009.221289300422\n",
      "updated log-likelihood: -1008.9229632731564\n",
      "updated log-likelihood: -1008.9110101927109\n",
      "updated log-likelihood: -1008.9040174504601\n",
      "updated log-likelihood: -1008.8984419407349\n",
      "updated log-likelihood: -1008.8939761338859\n",
      "updated log-likelihood: -1008.8904011622974\n",
      "updated log-likelihood: -1008.887540801066\n",
      "updated log-likelihood: -1008.8852531812654\n",
      "updated log-likelihood: -1008.8834242560754\n",
      "updated log-likelihood: -1008.8819624563354\n",
      "updated log-likelihood: -1008.8807943373678\n",
      "updated log-likelihood: -1008.8798610444609\n",
      "updated log-likelihood: -1008.8791154506403\n",
      "updated log-likelihood: -1008.8785198441618\n",
      "updated log-likelihood: -1008.8780440638575\n",
      "updated log-likelihood: -1008.8776639981911\n",
      "updated log-likelihood: -1008.8773603788784\n",
      "updated log-likelihood: -1008.8771178125086\n",
      "updated log-likelihood: -1008.876924004071\n",
      "updated log-likelihood: -1008.8767691349427\n",
      "updated log-likelihood: -1008.876645365008\n",
      "updated log-likelihood: -1008.876546434408\n",
      "updated log-likelihood: -1008.8764673451653\n",
      "updated log-likelihood: -1008.8764041067764\n",
      "updated log-likelihood: -1008.8763535330028\n",
      "updated log-likelihood: -1008.8763130796036\n",
      "updated log-likelihood: -1008.8762807147889\n",
      "updated log-likelihood: -1008.8762548158211\n",
      "updated log-likelihood: -1008.8762340864864\n"
     ]
    },
    {
     "data": {
      "image/png": "[encoded data removed]",
      "text/plain": [
       "<Figure size 432x288 with 1 Axes>"
      ]
     },
     "metadata": {
      "needs_background": "light"
     },
     "output_type": "display_data"
    },
    {
     "data": {
      "image/png": "[encoded data removed]",
      "text/plain": [
       "<Figure size 432x288 with 1 Axes>"
      ]
     },
     "metadata": {
      "needs_background": "light"
     },
     "output_type": "display_data"
    }
   ],
   "source": [
    "import numpy as np\n",
    "import pandas as pd\n",
    "import matplotlib.pyplot as plt\n",
    "\n",
    "\n",
    "tobamovirus = pd.read_csv('D:/statistics/CUHK_PPCA/data/tobamovirus.csv')\n",
    "data = np.array(tobamovirus, dtype=float).T\n",
    "\n",
    "ppca_data = PPCA(data, 2, 0.001, method='EM')\n",
    "plt.scatter(ppca_data[0, :], ppca_data[1, :], c = 'w')\n",
    "plt.title('PPCA', fontsize='large', fontweight='bold')\n",
    "for i in range(38):\n",
    "    plt.text(ppca_data[0, i], ppca_data[1, i], i+1)\n",
    "plt.show()\n",
    "\n",
    "pca_data = PCA(data, 2)\n",
    "plt.scatter(pca_data[0, :], pca_data[1, :], c = 'w')\n",
    "plt.title('PCA', fontsize='large', fontweight='bold')\n",
    "for i in range(38):\n",
    "    plt.text(pca_data[0, i], pca_data[1, i], i+1)\n",
    "plt.show()"
   ]
  },
  {
   "cell_type": "markdown",
   "metadata": {},
   "source": [
    "## Example 2: Mixture model of PPCA\n",
    "\n",
    "Tipping and Bishop raised another model based on PPCA in their paper: Mixture of Probabilistic Principal Component Analysers. The association of a probability model with PCA offers the tempting prospect of being able to model complex data structures with a combination of local PCA models.\n",
    "\n",
    "In PPCA, the probabilistic function of each example is as follows:\n",
    "\\begin{equation}\n",
    "p(\\mathbf{t})=(2\\pi)^{-d/2}|\\mathbf{C}|^{-1/2}\\exp\\{-\\frac{1}{2}(\\mathbf{t}-\\pmb{\\mu})^{\\rm{T}}\\mathbf{C}^{-1}(\\mathbf{t}-\\pmb{\\mu})\\}\n",
    "\\end{equation}\n",
    "\\begin{equation}\n",
    "\\mathbf{C}=\\sigma^{2}\\mathbf{I}+\\mathbf{WW}^{\\rm{T}}\n",
    "\\end{equation}\n",
    "\n",
    "In mixture model, however, the log-likelihood of observing the data set for such a mixture model is:\n",
    "\\begin{equation}\n",
    "\\mathcal{L}=\\sum\\limits_{n=1}^{N}\\ln\\{p(\\mathbf{t}_n)\\}\n",
    "\\end{equation}\n",
    "\\begin{equation}\n",
    "=\\sum\\limits_{n=1}^{N}\\ln\\{\\sum\\limits_{i=1}^{M}\\pi_ip(\\mathbf{t}_n|i)\\}\n",
    "\\end{equation}\n",
    "\n",
    "where $p(\\mathbf{t}|i)$ is a single PPCA model and $\\pi_i$ is the corresponding mixing proportion, with $\\pi_i\\ge0$ and $\\sum\\pi_i=1$. Each single model has its parameters: $\\pmb{\\mu}_i$, $\\mathbf{W}_i$ and $\\sigma_i^{2}$.\n",
    "\n",
    "We can develop an iterative EM algorithm for optimization of model parameters. If $R_{ni}=p(i|\\mathbf{t}_n)$ is the posterior responsibiility of mixture $i$ for generating data point $\\mathbf{t}_n$, given by:\n",
    "\\begin{equation}\n",
    "R_{ni}=\\frac{p(\\mathbf{t}_n|i)\\pi_i}{p(\\mathbf{t}_n)}\n",
    "\\end{equation}\n",
    "\n",
    "Then we obtain the following parameter updates:\n",
    "\\begin{equation}\n",
    "\\widetilde{\\pi_i}=\\frac{1}{N}\\sum\\limits_{n=1}^{N}R_{ni}\n",
    "\\end{equation}\n",
    "\\begin{equation}\n",
    "\\widetilde{\\mu_i}=\\frac{\\sum\\limits_{n=1}^{N}R_{ni}\\mathbf{t}_n}{\\sum\\limits_{n=1}^{N}R_{ni}}\n",
    "\\end{equation}\n",
    "\n",
    "where $\\mathbf{S}_i$ is the local responsibility-weighted covariance matrix:\n",
    "\\begin{equation}\n",
    "\\mathbf{S}_i=\\frac{1}{\\widetilde{\\pi_i}N}\\sum\\limits_{n=1}^{N}R_{ni}(\\mathbf{t}_n-\\widetilde{\\pmb{\\mu}_i})(\\mathbf{t}_n-\\widetilde{\\pmb{\\mu}_i})^{\\rm{T}}\n",
    "\\end{equation}\n",
    "\n",
    "Furthermore, for a given data point $\\mathbf{t}$, there is now a posterior distribution associated with each latent space, the mean of which for space $i$ is given by $(\\sigma^2_i\\mathbf{I}+\\mathbf{W}_i^{\\rm{T}}\\mathbf{W}_i)^{-1}\\mathbf{W}_i^{\\rm{T}}(\\mathbf{t}_i-\\pmb{\\mu})$.\n",
    "\n",
    "In the end, we can also calculate the log-likelihood for each update. If the log-likelihood is always increasing, it is highly possible that the programming is correct:\n",
    "\n",
    "\\begin{equation}\n",
    "\\mathcal{L}=\\sum\\limits_{n=1}^{N}(\\log(p(\\mathbf{t_n})))\n",
    "\\end{equation}\n",
    "\n",
    "\\begin{equation}\n",
    "=\\sum\\limits_{n=1}^{N}(\\log(\\sum\\limits_{i=1}^{M}\\pi_ip(\\mathbf{t_n}|i)))\n",
    "\\end{equation}\n",
    "\n",
    "\\begin{equation}\n",
    "=\\sum\\limits_{n=1}^{N}\\sum\\limits_{i=1}^{M}R_{ni}\\log(p(\\mathbf{t_n}|i))\n",
    "\\end{equation}"
   ]
  },
  {
   "cell_type": "code",
   "execution_count": 21,
   "metadata": {},
   "outputs": [
    {
     "name": "stdout",
     "output_type": "stream",
     "text": [
      "the updated log-likelihood is: -1222.916152629902\n",
      "the updated log-likelihood is: -1096.8534972844634\n",
      "the updated log-likelihood is: -993.9478997677971\n",
      "the updated log-likelihood is: -970.7607232230117\n",
      "the updated log-likelihood is: -967.0051819416805\n",
      "the updated log-likelihood is: -953.1981980747502\n",
      "the updated log-likelihood is: -952.803184003227\n",
      "the updated log-likelihood is: -952.8031840031592\n",
      "\n",
      " Pi =  [0.57893908 0.26315789 0.15790303]\n"
     ]
    },
    {
     "data": {
      "image/png": "[encoded data removed]",
      "text/plain": [
       "<Figure size 432x288 with 1 Axes>"
      ]
     },
     "metadata": {
      "needs_background": "light"
     },
     "output_type": "display_data"
    },
    {
     "data": {
      "image/png": "[encoded data removed]",
      "text/plain": [
       "<Figure size 432x288 with 1 Axes>"
      ]
     },
     "metadata": {
      "needs_background": "light"
     },
     "output_type": "display_data"
    },
    {
     "data": {
      "image/png": "[encoded data removed]",
      "text/plain": [
       "<Figure size 432x288 with 1 Axes>"
      ]
     },
     "metadata": {
      "needs_background": "light"
     },
     "output_type": "display_data"
    }
   ],
   "source": [
    "import numpy as np\n",
    "import pandas as pd\n",
    "import matplotlib.pyplot as plt\n",
    "\n",
    "tobamovirus = pd.read_csv('D:/statistics/CUHK_PPCA/data/tobamovirus.csv')\n",
    "data = np.array(tobamovirus, dtype=float).T\n",
    "\n",
    "t = data\n",
    "d, N = data.shape\n",
    "q = 2\n",
    "K = 3\n",
    "\n",
    "Pi = np.zeros(K)\n",
    "record = np.ones(K)\n",
    "Mu = np.zeros((d, K))\n",
    "sigma_square = np.zeros(K)\n",
    "P = np.zeros((N, K))\n",
    "R = np.random.random((N, K))\n",
    "\n",
    "sum = np.sum(R, axis = 1)\n",
    "R = R / sum.reshape(N, 1)\n",
    "\n",
    "epsilon = 0.001\n",
    "\n",
    "while np.sqrt(np.sum(np.square(record - Pi))) >= epsilon:\n",
    "\n",
    "    for k in range(K):\n",
    "        record[k] = Pi[k]\n",
    "\n",
    "        Pi[k] = np.sum(R[:, k]) / N\n",
    "        Mu[:, k] = (np.dot(t, R[:, k]) / np.sum(R[:, k]))\n",
    "\n",
    "        S = np.zeros((d, d))\n",
    "        for n in range(N):\n",
    "            S += R[n, k] * np.dot((t[:, n].reshape(d, 1) - Mu[:, k].reshape(d, 1)), (t[:, n].reshape(d, 1) - Mu[:, k].reshape(d, 1)).T)\n",
    "        S /= (Pi[k] * N)\n",
    "\n",
    "        value, U = np.linalg.eig(S)\n",
    "        U = U[:, 0: q]\n",
    "        sigma_square[k] = np.sum(value[q: d]).real / (d - q)\n",
    "        Lambda = np.diag(value[0: q])\n",
    "\n",
    "        names1 = 'W' + str(k)\n",
    "        locals()['W' + str(k)] = np.dot(U, np.sqrt(Lambda - sigma_square[k] * np.identity(q))).real\n",
    "        names2 = 'C' + str(k)\n",
    "        locals()['C' + str(k)] = sigma_square[k] * np.identity(d) + np.dot(locals()['W' + str(k)], locals()['W' + str(k)].T)\n",
    "\n",
    "        for n in range(N):\n",
    "            P[n, k] = np.power(2 * np.pi, -d / 2) * (1 / np.sqrt(np.linalg.det(locals()['C' + str(k)]))) * \\\n",
    "                      np.exp(-np.dot((t[:, n].reshape(1, d) - Mu[:, k].reshape(1, d)),\n",
    "                      np.dot(np.linalg.inv(locals()['C' + str(k)]), (t[:, n].reshape(d, 1) - Mu[:, k].reshape(d, 1)))) / 2)\n",
    "\n",
    "    for n in range(N):\n",
    "        for k in range(K):\n",
    "            R[n, k] = P[n, k] * Pi[k] / (np.dot(P[n, :], Pi))\n",
    "\n",
    "    L = 0\n",
    "    for n in range(N):\n",
    "        L += np.log(np.dot(P[n, :], Pi))\n",
    "    print('the updated log-likelihood is:', L)\n",
    "\n",
    "print('\\n', 'Pi = ', Pi)\n",
    "\n",
    "t0 = t[:, np.where(np.argmax(R, axis=1) == 0)].reshape(d, -1)\n",
    "M0 = np.dot(W0.T, W0) + sigma_square[0] * np.identity(q)\n",
    "X0 = np.dot(np.linalg.inv(M0), np.dot(W0.T, (t0 - Mu[:, 0].reshape(d, 1))))\n",
    "\n",
    "plt.scatter(X0[0, :], X0[1, :], c = 'w')\n",
    "plt.title('projection on subspace 1', fontsize='large', fontweight='bold')\n",
    "for i in range(X0.shape[1]):\n",
    "    plt.text(X0[0, i], X0[1, i], np.where(np.argmax(R, axis=1) == 0)[0][i] + 1)\n",
    "plt.show()\n",
    "\n",
    "t1 = t[:, np.where(np.argmax(R, axis=1) == 1)].reshape(d, -1)\n",
    "M1 = np.dot(W1.T, W1) + sigma_square[1] * np.identity(q)\n",
    "X1 = np.dot(np.linalg.inv(M1), np.dot(W1.T, (t1 - Mu[:, 1].reshape(d, 1))))\n",
    "\n",
    "plt.scatter(X1[0, :], X1[1, :], c = 'w')\n",
    "plt.title('projection on subspace 2', fontsize='large', fontweight='bold')\n",
    "for i in range(X1.shape[1]):\n",
    "    plt.text(X1[0, i], X1[1, i], np.where(np.argmax(R, axis=1) == 1)[0][i] + 1)\n",
    "plt.show()\n",
    "\n",
    "t2 = t[:, np.where(np.argmax(R, axis=1) == 2)].reshape(d, -1)\n",
    "M2 = np.dot(W2.T, W2) + sigma_square[2] * np.identity(q)\n",
    "X2 = np.dot(np.linalg.inv(M2), np.dot(W2.T, (t2 - Mu[:, 2].reshape(d, 1))))\n",
    "\n",
    "plt.scatter(X2[0, :], X2[1, :], c = 'w')\n",
    "plt.title('projection on subspace 3', fontsize='large', fontweight='bold')\n",
    "for i in range(X2.shape[1]):\n",
    "    plt.text(X2[0, i], X2[1, i], np.where(np.argmax(R, axis=1) == 2)[0][i] + 1)\n",
    "plt.show()"
   ]
  },
  {
   "cell_type": "markdown",
   "metadata": {},
   "source": [
    "Moreover, this article debugged a problem of last week's code: The point of projections on each subspace is no longer gathering around the line: $y=-x$."
   ]
  }
 ],
 "metadata": {
  "kernelspec": {
   "display_name": "Python 3",
   "language": "python",
   "name": "python3"
  },
  "language_info": {
   "codemirror_mode": {
    "name": "ipython",
    "version": 3
   },
   "file_extension": ".py",
   "mimetype": "text/x-python",
   "name": "python",
   "nbconvert_exporter": "python",
   "pygments_lexer": "ipython3",
   "version": "3.8.3"
  }
 },
 "nbformat": 4,
 "nbformat_minor": 4
}
